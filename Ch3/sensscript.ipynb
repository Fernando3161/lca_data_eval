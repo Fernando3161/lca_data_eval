{
 "cells": [
  {
   "cell_type": "code",
   "execution_count": 1,
   "metadata": {},
   "outputs": [
    {
     "name": "stdout",
     "output_type": "stream",
     "text": [
      " 1 79; 4 79; 6 77;\n"
     ]
    }
   ],
   "source": [
    "app_list = [\"A\",\"B\"]\n",
    "MAX_SECONDS = 10\n",
    "import random\n",
    "ON_OFF_PERCENTAGE = 5\n",
    "MICE_ELEPHANT_PERCENTAGE = 10\n",
    "MICE_MAX = 20\n",
    "MICE_MIN = 50\n",
    "ELEPHANT_MIN = 60\n",
    "ELEPHANT_MAX = 80\n",
    "\n",
    "for app in app_list:\n",
    "    send_script_string = \"\"\n",
    "    for second in range(1, MAX_SECONDS):\n",
    "        on_off = int(random.random() * ON_OFF_PERCENTAGE)\n",
    "        if on_off == 0:\n",
    "            rand_flow = int(random.random() * MICE_ELEPHANT_PERCENTAGE)\n",
    "\n",
    "            # Mice Flow\n",
    "            if rand_flow == 0:\n",
    "                # Focusing more data on MICE_MIN 60% chance\n",
    "                rand_mice_min = int(random.random() * 100)\n",
    "                temp_max = MICE_MAX\n",
    "\n",
    "                if rand_mice_min <= 80:\n",
    "                    temp_max = MICE_MIN + (MICE_MAX - MICE_MIN) * 0.03\n",
    "                else:\n",
    "                    temp_max = MICE_MIN + (MICE_MAX - MICE_MIN) * random.random()\n",
    "\n",
    "                rand_size = int((random.random() * (temp_max - MICE_MIN)) + MICE_MIN)\n",
    "                send_script_string = send_script_string + \" \" + str(second) + \" \" + str(rand_size) + \";\"\n",
    "\n",
    "            # Elephant Flow\n",
    "            else:\n",
    "                rand_ele_distro = int(random.random() * 100)\n",
    "                temp_min = ELEPHANT_MIN\n",
    "\n",
    "                if rand_ele_distro <= 40:\n",
    "                    temp_min = ELEPHANT_MIN + int((ELEPHANT_MAX - ELEPHANT_MIN) * (random.random()))\n",
    "                elif 60 < rand_ele_distro < 100:\n",
    "                    temp_min = ELEPHANT_MIN + int((ELEPHANT_MAX - ELEPHANT_MIN) * 0.96)\n",
    "\n",
    "                rand_size = int((random.random() * (ELEPHANT_MAX - temp_min)) + temp_min)\n",
    "                send_script_string = send_script_string + \" \" + str(second) + \" \" + str(rand_size) + \";\"\n",
    "\n",
    "print(send_script_string)\n"
   ]
  }
 ],
 "metadata": {
  "kernelspec": {
   "display_name": "emob",
   "language": "python",
   "name": "python3"
  },
  "language_info": {
   "codemirror_mode": {
    "name": "ipython",
    "version": 3
   },
   "file_extension": ".py",
   "mimetype": "text/x-python",
   "name": "python",
   "nbconvert_exporter": "python",
   "pygments_lexer": "ipython3",
   "version": "3.8.13"
  }
 },
 "nbformat": 4,
 "nbformat_minor": 2
}
