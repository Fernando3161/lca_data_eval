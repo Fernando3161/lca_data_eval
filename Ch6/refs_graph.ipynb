{
 "cells": [
  {
   "cell_type": "code",
   "execution_count": 2,
   "metadata": {},
   "outputs": [
    {
     "data": {
      "text/html": [
       "<div>\n",
       "<style scoped>\n",
       "    .dataframe tbody tr th:only-of-type {\n",
       "        vertical-align: middle;\n",
       "    }\n",
       "\n",
       "    .dataframe tbody tr th {\n",
       "        vertical-align: top;\n",
       "    }\n",
       "\n",
       "    .dataframe thead th {\n",
       "        text-align: right;\n",
       "    }\n",
       "</style>\n",
       "<table border=\"1\" class=\"dataframe\">\n",
       "  <thead>\n",
       "    <tr style=\"text-align: right;\">\n",
       "      <th></th>\n",
       "      <th>Citations</th>\n",
       "      <th>REF ID</th>\n",
       "      <th>Cat</th>\n",
       "      <th>KeyWord</th>\n",
       "      <th>Name</th>\n",
       "    </tr>\n",
       "    <tr>\n",
       "      <th>ID</th>\n",
       "      <th></th>\n",
       "      <th></th>\n",
       "      <th></th>\n",
       "      <th></th>\n",
       "      <th></th>\n",
       "    </tr>\n",
       "  </thead>\n",
       "  <tbody>\n",
       "    <tr>\n",
       "      <th>1</th>\n",
       "      <td>1</td>\n",
       "      <td>5, 13,16, 24</td>\n",
       "      <td>Report</td>\n",
       "      <td>CM; DC; EnEf; LCA</td>\n",
       "      <td>Al20</td>\n",
       "    </tr>\n",
       "    <tr>\n",
       "      <th>2</th>\n",
       "      <td>1</td>\n",
       "      <td>8, 25</td>\n",
       "      <td>Contribution</td>\n",
       "      <td>EnTech; Sim; SoftDev</td>\n",
       "      <td>Fa22</td>\n",
       "    </tr>\n",
       "    <tr>\n",
       "      <th>3</th>\n",
       "      <td>9</td>\n",
       "      <td>8, 25</td>\n",
       "      <td>Journal Article</td>\n",
       "      <td>Sim; SoftDev</td>\n",
       "      <td>Fe22</td>\n",
       "    </tr>\n",
       "    <tr>\n",
       "      <th>4</th>\n",
       "      <td>8</td>\n",
       "      <td>8</td>\n",
       "      <td>Journal Article</td>\n",
       "      <td>EnEf; EnTech; Sim; Markt</td>\n",
       "      <td>Kl22</td>\n",
       "    </tr>\n",
       "    <tr>\n",
       "      <th>5</th>\n",
       "      <td>1</td>\n",
       "      <td>22</td>\n",
       "      <td>Contribution</td>\n",
       "      <td>CM; LCA</td>\n",
       "      <td>KPP19</td>\n",
       "    </tr>\n",
       "    <tr>\n",
       "      <th>6</th>\n",
       "      <td>2</td>\n",
       "      <td></td>\n",
       "      <td>Thesis</td>\n",
       "      <td>EnEf; Sim</td>\n",
       "      <td>Pe16</td>\n",
       "    </tr>\n",
       "    <tr>\n",
       "      <th>7</th>\n",
       "      <td>9</td>\n",
       "      <td>13</td>\n",
       "      <td>Contribution</td>\n",
       "      <td>DC; LCA; SoftDev</td>\n",
       "      <td>Pe19</td>\n",
       "    </tr>\n",
       "    <tr>\n",
       "      <th>8</th>\n",
       "      <td>8</td>\n",
       "      <td></td>\n",
       "      <td>Contribution</td>\n",
       "      <td>EnEf; EnTech; Sim; SoftDev</td>\n",
       "      <td>Pe21a</td>\n",
       "    </tr>\n",
       "    <tr>\n",
       "      <th>9</th>\n",
       "      <td>2</td>\n",
       "      <td>7,22,1</td>\n",
       "      <td>Contribution</td>\n",
       "      <td>DC; LCA</td>\n",
       "      <td>Pe21b</td>\n",
       "    </tr>\n",
       "    <tr>\n",
       "      <th>10</th>\n",
       "      <td>1</td>\n",
       "      <td>18,5,13,24</td>\n",
       "      <td>Presentation</td>\n",
       "      <td>CM; DC; LCA</td>\n",
       "      <td>Pe22a</td>\n",
       "    </tr>\n",
       "    <tr>\n",
       "      <th>11</th>\n",
       "      <td>3</td>\n",
       "      <td>18, 5</td>\n",
       "      <td>Contribution</td>\n",
       "      <td>CM; EnTech; LCA</td>\n",
       "      <td>Pe22b</td>\n",
       "    </tr>\n",
       "    <tr>\n",
       "      <th>12</th>\n",
       "      <td>9</td>\n",
       "      <td>5,18,19,20</td>\n",
       "      <td>Presentation</td>\n",
       "      <td>CM; LCA</td>\n",
       "      <td>Pe23</td>\n",
       "    </tr>\n",
       "    <tr>\n",
       "      <th>13</th>\n",
       "      <td>10</td>\n",
       "      <td></td>\n",
       "      <td>Contribution</td>\n",
       "      <td>DC; LCA</td>\n",
       "      <td>PHS19</td>\n",
       "    </tr>\n",
       "    <tr>\n",
       "      <th>14</th>\n",
       "      <td>1</td>\n",
       "      <td></td>\n",
       "      <td>Contribution</td>\n",
       "      <td>CM; EnTech; Sim</td>\n",
       "      <td>PP19a</td>\n",
       "    </tr>\n",
       "    <tr>\n",
       "      <th>16</th>\n",
       "      <td>3</td>\n",
       "      <td>13</td>\n",
       "      <td>Contribution</td>\n",
       "      <td>CM; DC; LCA</td>\n",
       "      <td>PP19c</td>\n",
       "    </tr>\n",
       "    <tr>\n",
       "      <th>17</th>\n",
       "      <td>1</td>\n",
       "      <td>5,13,14, 16,28</td>\n",
       "      <td>Journal Article</td>\n",
       "      <td>CM; EnTech; LCA</td>\n",
       "      <td>PP20</td>\n",
       "    </tr>\n",
       "    <tr>\n",
       "      <th>18</th>\n",
       "      <td>4</td>\n",
       "      <td>13, 5</td>\n",
       "      <td>Presentation</td>\n",
       "      <td>CM; LCA</td>\n",
       "      <td>PP21a</td>\n",
       "    </tr>\n",
       "    <tr>\n",
       "      <th>19</th>\n",
       "      <td>6</td>\n",
       "      <td>18, 5</td>\n",
       "      <td>Presentation</td>\n",
       "      <td>CM; LCA</td>\n",
       "      <td>PP21b</td>\n",
       "    </tr>\n",
       "    <tr>\n",
       "      <th>20</th>\n",
       "      <td>2</td>\n",
       "      <td>18, 19, 5</td>\n",
       "      <td>Presentation</td>\n",
       "      <td>CM; DC; LCA</td>\n",
       "      <td>PP21c</td>\n",
       "    </tr>\n",
       "    <tr>\n",
       "      <th>21</th>\n",
       "      <td>8</td>\n",
       "      <td>5,13,16</td>\n",
       "      <td>Contribution</td>\n",
       "      <td>CM; LCA</td>\n",
       "      <td>PP23</td>\n",
       "    </tr>\n",
       "    <tr>\n",
       "      <th>22</th>\n",
       "      <td>10</td>\n",
       "      <td></td>\n",
       "      <td>Journal Article</td>\n",
       "      <td>CM; SoftDev</td>\n",
       "      <td>PR19</td>\n",
       "    </tr>\n",
       "    <tr>\n",
       "      <th>23</th>\n",
       "      <td>8</td>\n",
       "      <td></td>\n",
       "      <td>Thesis</td>\n",
       "      <td>EnTech; Sim</td>\n",
       "      <td>PS12</td>\n",
       "    </tr>\n",
       "    <tr>\n",
       "      <th>24</th>\n",
       "      <td>3</td>\n",
       "      <td>13</td>\n",
       "      <td>Contribution</td>\n",
       "      <td>CM; EnEf; LCA</td>\n",
       "      <td>PS19</td>\n",
       "    </tr>\n",
       "    <tr>\n",
       "      <th>25</th>\n",
       "      <td>4</td>\n",
       "      <td>8</td>\n",
       "      <td>Contribution</td>\n",
       "      <td>EnTech; Sim; SoftDev</td>\n",
       "      <td>Wa21</td>\n",
       "    </tr>\n",
       "    <tr>\n",
       "      <th>26</th>\n",
       "      <td>3</td>\n",
       "      <td>8, 25</td>\n",
       "      <td>Contribution</td>\n",
       "      <td>EnTech; Sim; SoftDev</td>\n",
       "      <td>Wa22</td>\n",
       "    </tr>\n",
       "    <tr>\n",
       "      <th>27</th>\n",
       "      <td>1</td>\n",
       "      <td>8,4</td>\n",
       "      <td>Contribution</td>\n",
       "      <td>EnTech; Sim; SoftDev; Markt</td>\n",
       "      <td>We22</td>\n",
       "    </tr>\n",
       "    <tr>\n",
       "      <th>28</th>\n",
       "      <td>2</td>\n",
       "      <td>14</td>\n",
       "      <td>Contribution</td>\n",
       "      <td>CM; EnTech; Sim</td>\n",
       "      <td>Wi19</td>\n",
       "    </tr>\n",
       "  </tbody>\n",
       "</table>\n",
       "</div>"
      ],
      "text/plain": [
       "   Citations          REF ID              Cat                      KeyWord  \\\n",
       "ID                                                                           \n",
       "1          1    5, 13,16, 24           Report            CM; DC; EnEf; LCA   \n",
       "2          1           8, 25     Contribution         EnTech; Sim; SoftDev   \n",
       "3          9           8, 25  Journal Article                 Sim; SoftDev   \n",
       "4          8               8  Journal Article     EnEf; EnTech; Sim; Markt   \n",
       "5          1              22     Contribution                      CM; LCA   \n",
       "6          2                           Thesis                    EnEf; Sim   \n",
       "7          9              13     Contribution             DC; LCA; SoftDev   \n",
       "8          8                     Contribution   EnEf; EnTech; Sim; SoftDev   \n",
       "9          2          7,22,1     Contribution                      DC; LCA   \n",
       "10         1      18,5,13,24     Presentation                  CM; DC; LCA   \n",
       "11         3           18, 5     Contribution              CM; EnTech; LCA   \n",
       "12         9      5,18,19,20     Presentation                      CM; LCA   \n",
       "13        10                     Contribution                      DC; LCA   \n",
       "14         1                     Contribution              CM; EnTech; Sim   \n",
       "16         3              13     Contribution                  CM; DC; LCA   \n",
       "17         1  5,13,14, 16,28  Journal Article              CM; EnTech; LCA   \n",
       "18         4           13, 5     Presentation                      CM; LCA   \n",
       "19         6           18, 5     Presentation                      CM; LCA   \n",
       "20         2       18, 19, 5     Presentation                  CM; DC; LCA   \n",
       "21         8         5,13,16     Contribution                      CM; LCA   \n",
       "22        10                  Journal Article                  CM; SoftDev   \n",
       "23         8                           Thesis                  EnTech; Sim   \n",
       "24         3              13     Contribution                CM; EnEf; LCA   \n",
       "25         4               8     Contribution         EnTech; Sim; SoftDev   \n",
       "26         3           8, 25     Contribution         EnTech; Sim; SoftDev   \n",
       "27         1             8,4     Contribution  EnTech; Sim; SoftDev; Markt   \n",
       "28         2              14     Contribution              CM; EnTech; Sim   \n",
       "\n",
       "     Name  \n",
       "ID         \n",
       "1    Al20  \n",
       "2    Fa22  \n",
       "3    Fe22  \n",
       "4    Kl22  \n",
       "5   KPP19  \n",
       "6    Pe16  \n",
       "7    Pe19  \n",
       "8   Pe21a  \n",
       "9   Pe21b  \n",
       "10  Pe22a  \n",
       "11  Pe22b  \n",
       "12   Pe23  \n",
       "13  PHS19  \n",
       "14  PP19a  \n",
       "16  PP19c  \n",
       "17   PP20  \n",
       "18  PP21a  \n",
       "19  PP21b  \n",
       "20  PP21c  \n",
       "21   PP23  \n",
       "22   PR19  \n",
       "23   PS12  \n",
       "24   PS19  \n",
       "25   Wa21  \n",
       "26   Wa22  \n",
       "27   We22  \n",
       "28   Wi19  "
      ]
     },
     "execution_count": 2,
     "metadata": {},
     "output_type": "execute_result"
    }
   ],
   "source": [
    "import pandas as pd  \n",
    "import numpy as np\n",
    "\n",
    "df = pd.read_excel(\"refs.xlsx\", sheet_name=\"refs\", skiprows=[0,1],\n",
    "                    dtype=str)\n",
    "df.set_index(\"ID\", inplace=True)\n",
    "cols = [\"Citations\", \"REF ID\", \"Cat\", \"ShortName\",\"Suff\", \"KeyWord\"]\n",
    "df = df[cols]\n",
    "df[\"Name\"]= [\"\" for x in df[\"Suff\"]]\n",
    "df.fillna(\"\", inplace=True)\n",
    "for c in cols:\n",
    "    df[c]= [str(x) for x in df[c]]\n",
    "for i, row in df.iterrows():\n",
    "    df.at[i,\"Name\"]=row[\"ShortName\"]+str(row[\"Suff\"])\n",
    "\n",
    "df.drop([\"ShortName\", \"Suff\"],axis=1, inplace=True)\n",
    "df\n",
    "\n",
    "for i, row in df.iterrows():\n",
    "    kw_ = row[\"KeyWord\"]\n",
    "    kw_ = kw_.replace(\"Data Center\", \"DC\")\n",
    "    kw_ = kw_.replace(\"Simulation\", \"Sim\") \n",
    "    kw_ = kw_.replace(\"Software Development\", \"SoftDev\")\n",
    "    kw_ = kw_.replace(\"Energy Markets\", \"Markt\") \n",
    "    df.at[i,\"KeyWord\"]=kw_\n",
    "\n",
    "df\n",
    "\n",
    "\n"
   ]
  },
  {
   "cell_type": "code",
   "execution_count": 3,
   "metadata": {},
   "outputs": [],
   "source": [
    "# Define the graph\n",
    "import networkx as nx\n",
    "import matplotlib.pyplot as plt\n",
    "G = nx.Graph()\n",
    "\n",
    "\n",
    "# Add nodes with properties\n",
    "for i, row in df.iterrows():\n",
    "    G.add_node(row[\"Name\"], type=row[\"Cat\"], weight=int(row[\"Citations\"]))\n",
    "\n",
    "# get unique keywords\n",
    "keywors_=[]\n",
    "for i, row in df.iterrows():\n",
    "    kw = row[\"KeyWord\"]\n",
    "    kw=kw.replace(\" \",\"\")\n",
    "    kw = kw.split(\";\")\n",
    "    for k in kw:\n",
    "        if k not in keywors_:\n",
    "            keywors_.append(k)\n",
    "\n",
    "for k in keywors_: \n",
    "    G.add_node(k, type=\"KW\", weight=0)\n"
   ]
  },
  {
   "cell_type": "code",
   "execution_count": 4,
   "metadata": {},
   "outputs": [
    {
     "name": "stdout",
     "output_type": "stream",
     "text": [
      "35\n"
     ]
    }
   ],
   "source": [
    "# Add edges between nodes of citations\n",
    "for i, row in df.iterrows():\n",
    "    if len(row[\"REF ID\"])>0:\n",
    "        # convert to a list\n",
    "        data = row[\"REF ID\"]\n",
    "        data = data.replace(\" \", \"\")\n",
    "        data = data.split(\",\")\n",
    "        data = [str(d) for d in data]\n",
    "        for d in data:\n",
    "            #print(cit)\n",
    "\n",
    "            G.add_edge(row[\"Name\"], df.loc[d,\"Name\"])\n",
    "\n",
    "\n",
    "\n",
    "# Add edges between nodes of keywords\n",
    "for i, row in df.iterrows():\n",
    "    kw = row[\"KeyWord\"]\n",
    "    kw=kw.replace(\" \",\"\")\n",
    "    kw = kw.split(\";\")\n",
    "    for k in kw:\n",
    "        G.add_edge(row[\"Name\"], k)\n",
    "\n",
    "print(len(G))"
   ]
  },
  {
   "cell_type": "code",
   "execution_count": 5,
   "metadata": {},
   "outputs": [],
   "source": [
    "\n",
    "\n",
    "# Define node colors based on type\n",
    "node_colors = {'Report': 'red', 'Contribution': 'blue', \n",
    "               \"Journal Article\":\"purple\", \"Thesis\":\"green\",\n",
    "                 \"Presentation\":\"yellow\", \"KW\":\"black\"}\n",
    "\n"
   ]
  },
  {
   "cell_type": "code",
   "execution_count": 6,
   "metadata": {},
   "outputs": [
    {
     "data": {
      "image/png": "[encoded data removed]",
      "text/plain": [
       "<Figure size 640x480 with 1 Axes>"
      ]
     },
     "metadata": {},
     "output_type": "display_data"
    }
   ],
   "source": [
    "\n",
    "\n",
    "colors = [node_colors[G.nodes[node]['type']] for node in G.nodes()]\n",
    "\n",
    "# Define node sizes based on weight\n",
    "node_sizes = [G.nodes[node]['weight'] for node in G.nodes()]\n",
    "\n",
    "# Plot the graph\n",
    "pos = nx.spring_layout(G)\n",
    "nx.draw_networkx(G, pos, node_color=colors, node_size=node_sizes, with_labels=True)\n",
    "\n",
    "# Show the plot\n",
    "plt.show()"
   ]
  },
  {
   "cell_type": "code",
   "execution_count": 7,
   "metadata": {},
   "outputs": [],
   "source": [
    "Q=nx.DiGraph(G)\n"
   ]
  },
  {
   "cell_type": "code",
   "execution_count": 8,
   "metadata": {},
   "outputs": [],
   "source": [
    "import plotly.graph_objs as go\n",
    "pos = nx.spring_layout(G, iterations=100,k=0.5)\n",
    "for n, p in pos.items():\n",
    "    G.nodes[n]['pos'] = p\n",
    "edge_trace = go.Scatter(\n",
    "    x=[],\n",
    "    y=[],\n",
    "    line=dict(width=0.3, color='#888'),\n",
    "    hoverinfo='none',\n",
    "    mode='lines')\n",
    "for edge in G.edges():\n",
    "    x0, y0 = G.nodes[edge[0]]['pos']\n",
    "    x1, y1 = G.nodes[edge[1]]['pos']\n",
    "    edge_trace['x'] += tuple([x0, x1, None])\n",
    "    edge_trace['y'] += tuple([y0, y1, None])"
   ]
  },
  {
   "cell_type": "code",
   "execution_count": 9,
   "metadata": {},
   "outputs": [
    {
     "data": {
      "application/vnd.plotly.v1+json": {
       "config": {
        "plotlyServerURL": "https://plot.ly"
       },
       "data": [
        {
         "hoverinfo": "none",
         "line": {
          "color": "#888",
          "width": 0.3
         },
         "mode": "lines",
         "type": "scatter",
         "x": [
          0.2786999400402354,
          0.43882393691590993,
          null,
          0.2786999400402354,
          0.4135029724539174,
          null,
          0.2786999400402354,
          0.49597949591277574,
          null,
          0.2786999400402354,
          0.22300821874000284,
          null,
          0.2786999400402354,
          0.38235586580209274,
          null,
          0.2786999400402354,
          0.33578641942983856,
          null,
          0.2786999400402354,
          0.547411750139478,
          null,
          0.2786999400402354,
          -0.20672442372133254,
          null,
          0.2786999400402354,
          0.4372534528541889,
          null,
          -0.6324408518268002,
          -0.5212093418060535,
          null,
          -0.6324408518268002,
          -0.5663332994857722,
          null,
          -0.6324408518268002,
          -0.34617275594881725,
          null,
          -0.6324408518268002,
          -0.49379690889211075,
          null,
          -0.6324408518268002,
          -0.3302578134724915,
          null,
          -0.6580677614344659,
          -0.5212093418060535,
          null,
          -0.6580677614344659,
          -0.5663332994857722,
          null,
          -0.6580677614344659,
          -0.49379690889211075,
          null,
          -0.6580677614344659,
          -0.3302578134724915,
          null,
          -0.6433441682707403,
          -0.5212093418060535,
          null,
          -0.6433441682707403,
          -0.6967317537086047,
          null,
          -0.6433441682707403,
          -0.20672442372133254,
          null,
          -0.6433441682707403,
          -0.34617275594881725,
          null,
          -0.6433441682707403,
          -0.49379690889211075,
          null,
          -0.6433441682707403,
          -1,
          null,
          0.43882393691590993,
          0.12296526460767916,
          null,
          0.43882393691590993,
          0.5575190001890601,
          null,
          0.43882393691590993,
          0.18139011127646792,
          null,
          0.43882393691590993,
          0.6699843271187943,
          null,
          0.43882393691590993,
          0.14128574432859894,
          null,
          0.43882393691590993,
          0.5136723918338139,
          null,
          0.43882393691590993,
          0.5921196013850215,
          null,
          0.43882393691590993,
          0.66773232069659,
          null,
          0.43882393691590993,
          0.6654360700740902,
          null,
          0.43882393691590993,
          0.33578641942983856,
          null,
          0.43882393691590993,
          0.4372534528541889,
          null,
          -0.44849475521881177,
          -0.20672442372133254,
          null,
          -0.44849475521881177,
          -0.49379690889211075,
          null,
          0.2039119746243593,
          0.4135029724539174,
          null,
          0.2039119746243593,
          0.38235586580209274,
          null,
          0.2039119746243593,
          0.547411750139478,
          null,
          0.2039119746243593,
          0.4372534528541889,
          null,
          0.2039119746243593,
          -0.3302578134724915,
          null,
          -0.5212093418060535,
          -0.5663332994857722,
          null,
          -0.5212093418060535,
          -0.4654138225142528,
          null,
          -0.5212093418060535,
          -0.6967317537086047,
          null,
          -0.5212093418060535,
          -0.20672442372133254,
          null,
          -0.5212093418060535,
          -0.34617275594881725,
          null,
          -0.5212093418060535,
          -0.49379690889211075,
          null,
          -0.5212093418060535,
          -0.3302578134724915,
          null,
          0.38235586580209274,
          0.12296526460767916,
          null,
          0.38235586580209274,
          0.547411750139478,
          null,
          0.38235586580209274,
          0.4372534528541889,
          null,
          0.5575190001890601,
          0.5136723918338139,
          null,
          0.5575190001890601,
          0.4135029724539174,
          null,
          0.5575190001890601,
          0.22300821874000284,
          null,
          0.5575190001890601,
          0.33578641942983856,
          null,
          0.5575190001890601,
          0.547411750139478,
          null,
          0.5575190001890601,
          0.4372534528541889,
          null,
          0.18139011127646792,
          0.5136723918338139,
          null,
          0.18139011127646792,
          0.33578641942983856,
          null,
          0.18139011127646792,
          -0.34617275594881725,
          null,
          0.18139011127646792,
          0.4372534528541889,
          null,
          0.6699843271187943,
          0.5136723918338139,
          null,
          0.6699843271187943,
          0.5921196013850215,
          null,
          0.6699843271187943,
          0.66773232069659,
          null,
          0.6699843271187943,
          0.33578641942983856,
          null,
          0.6699843271187943,
          0.4372534528541889,
          null,
          0.4135029724539174,
          0.49597949591277574,
          null,
          0.4135029724539174,
          0.14128574432859894,
          null,
          0.4135029724539174,
          0.5136723918338139,
          null,
          0.4135029724539174,
          0.6654360700740902,
          null,
          0.4135029724539174,
          0.22300821874000284,
          null,
          0.4135029724539174,
          0.547411750139478,
          null,
          0.4135029724539174,
          0.4372534528541889,
          null,
          -0.09778174325833999,
          0.14128574432859894,
          null,
          -0.09778174325833999,
          -0.10546015101798674,
          null,
          -0.09778174325833999,
          0.33578641942983856,
          null,
          -0.09778174325833999,
          -0.34617275594881725,
          null,
          -0.09778174325833999,
          -0.49379690889211075,
          null,
          0.49597949591277574,
          0.14128574432859894,
          null,
          0.49597949591277574,
          0.6654360700740902,
          null,
          0.49597949591277574,
          0.33578641942983856,
          null,
          0.49597949591277574,
          0.547411750139478,
          null,
          0.49597949591277574,
          0.4372534528541889,
          null,
          0.14128574432859894,
          -0.10546015101798674,
          null,
          0.14128574432859894,
          0.33578641942983856,
          null,
          0.14128574432859894,
          -0.34617275594881725,
          null,
          0.14128574432859894,
          0.4372534528541889,
          null,
          0.5136723918338139,
          0.5921196013850215,
          null,
          0.5136723918338139,
          0.66773232069659,
          null,
          0.5136723918338139,
          0.33578641942983856,
          null,
          0.5136723918338139,
          0.4372534528541889,
          null,
          0.5921196013850215,
          0.66773232069659,
          null,
          0.5921196013850215,
          0.33578641942983856,
          null,
          0.5921196013850215,
          0.4372534528541889,
          null,
          0.66773232069659,
          0.33578641942983856,
          null,
          0.66773232069659,
          0.547411750139478,
          null,
          0.66773232069659,
          0.4372534528541889,
          null,
          0.6654360700740902,
          0.33578641942983856,
          null,
          0.6654360700740902,
          0.4372534528541889,
          null,
          0.12296526460767916,
          0.33578641942983856,
          null,
          0.12296526460767916,
          -0.3302578134724915,
          null,
          -0.6566093078463334,
          -0.34617275594881725,
          null,
          -0.6566093078463334,
          -0.49379690889211075,
          null,
          0.22300821874000284,
          0.33578641942983856,
          null,
          0.22300821874000284,
          -0.20672442372133254,
          null,
          0.22300821874000284,
          0.4372534528541889,
          null,
          -0.5663332994857722,
          -0.4654138225142528,
          null,
          -0.5663332994857722,
          -0.34617275594881725,
          null,
          -0.5663332994857722,
          -0.49379690889211075,
          null,
          -0.5663332994857722,
          -0.3302578134724915,
          null,
          -0.4654138225142528,
          -0.34617275594881725,
          null,
          -0.4654138225142528,
          -0.49379690889211075,
          null,
          -0.4654138225142528,
          -0.3302578134724915,
          null,
          -0.6967317537086047,
          -0.34617275594881725,
          null,
          -0.6967317537086047,
          -0.49379690889211075,
          null,
          -0.6967317537086047,
          -0.3302578134724915,
          null,
          -0.6967317537086047,
          -1,
          null,
          -0.10546015101798674,
          0.33578641942983856,
          null,
          -0.10546015101798674,
          -0.34617275594881725,
          null,
          -0.10546015101798674,
          -0.49379690889211075,
          null
         ],
         "y": [
          0.1261532362982514,
          -0.10400851722444404,
          null,
          0.1261532362982514,
          0.12084171503897712,
          null,
          0.1261532362982514,
          0.1333820134733877,
          null,
          0.1261532362982514,
          0.014336411072204673,
          null,
          0.1261532362982514,
          0.3625619510184633,
          null,
          0.1261532362982514,
          -0.11014199943176896,
          null,
          0.1261532362982514,
          0.26401163629400143,
          null,
          0.1261532362982514,
          -0.038994569069130854,
          null,
          0.1261532362982514,
          -0.0012369681206905857,
          null,
          0.1257123712843225,
          0.07868786614734673,
          null,
          0.1257123712843225,
          0.21139317858654352,
          null,
          0.1257123712843225,
          -0.0767388079498299,
          null,
          0.1257123712843225,
          -0.061502689762258034,
          null,
          0.1257123712843225,
          0.25421998917409744,
          null,
          0.29810734958896384,
          0.07868786614734673,
          null,
          0.29810734958896384,
          0.21139317858654352,
          null,
          0.29810734958896384,
          -0.061502689762258034,
          null,
          0.29810734958896384,
          0.25421998917409744,
          null,
          -0.12154812284215073,
          0.07868786614734673,
          null,
          -0.12154812284215073,
          0.007392056039629509,
          null,
          -0.12154812284215073,
          -0.038994569069130854,
          null,
          -0.12154812284215073,
          -0.0767388079498299,
          null,
          -0.12154812284215073,
          -0.061502689762258034,
          null,
          -0.12154812284215073,
          -0.11757663599888113,
          null,
          -0.10400851722444404,
          0.1896994466504682,
          null,
          -0.10400851722444404,
          0.01218738580411975,
          null,
          -0.10400851722444404,
          -0.22874405497964434,
          null,
          -0.10400851722444404,
          -0.22992205228008883,
          null,
          -0.10400851722444404,
          -0.06885427266731377,
          null,
          -0.10400851722444404,
          -0.19667289191897352,
          null,
          -0.10400851722444404,
          -0.3016703532713092,
          null,
          -0.10400851722444404,
          -0.09156516423323859,
          null,
          -0.10400851722444404,
          0.0593747909204808,
          null,
          -0.10400851722444404,
          -0.11014199943176896,
          null,
          -0.10400851722444404,
          -0.0012369681206905857,
          null,
          -0.34920632781229605,
          -0.038994569069130854,
          null,
          -0.34920632781229605,
          -0.061502689762258034,
          null,
          0.33020398949686475,
          0.12084171503897712,
          null,
          0.33020398949686475,
          0.3625619510184633,
          null,
          0.33020398949686475,
          0.26401163629400143,
          null,
          0.33020398949686475,
          -0.0012369681206905857,
          null,
          0.33020398949686475,
          0.25421998917409744,
          null,
          0.07868786614734673,
          0.21139317858654352,
          null,
          0.07868786614734673,
          0.2044971469060612,
          null,
          0.07868786614734673,
          0.007392056039629509,
          null,
          0.07868786614734673,
          -0.038994569069130854,
          null,
          0.07868786614734673,
          -0.0767388079498299,
          null,
          0.07868786614734673,
          -0.061502689762258034,
          null,
          0.07868786614734673,
          0.25421998917409744,
          null,
          0.3625619510184633,
          0.1896994466504682,
          null,
          0.3625619510184633,
          0.26401163629400143,
          null,
          0.3625619510184633,
          -0.0012369681206905857,
          null,
          0.01218738580411975,
          -0.19667289191897352,
          null,
          0.01218738580411975,
          0.12084171503897712,
          null,
          0.01218738580411975,
          0.014336411072204673,
          null,
          0.01218738580411975,
          -0.11014199943176896,
          null,
          0.01218738580411975,
          0.26401163629400143,
          null,
          0.01218738580411975,
          -0.0012369681206905857,
          null,
          -0.22874405497964434,
          -0.19667289191897352,
          null,
          -0.22874405497964434,
          -0.11014199943176896,
          null,
          -0.22874405497964434,
          -0.0767388079498299,
          null,
          -0.22874405497964434,
          -0.0012369681206905857,
          null,
          -0.22992205228008883,
          -0.19667289191897352,
          null,
          -0.22992205228008883,
          -0.3016703532713092,
          null,
          -0.22992205228008883,
          -0.09156516423323859,
          null,
          -0.22992205228008883,
          -0.11014199943176896,
          null,
          -0.22992205228008883,
          -0.0012369681206905857,
          null,
          0.12084171503897712,
          0.1333820134733877,
          null,
          0.12084171503897712,
          -0.06885427266731377,
          null,
          0.12084171503897712,
          -0.19667289191897352,
          null,
          0.12084171503897712,
          0.0593747909204808,
          null,
          0.12084171503897712,
          0.014336411072204673,
          null,
          0.12084171503897712,
          0.26401163629400143,
          null,
          0.12084171503897712,
          -0.0012369681206905857,
          null,
          -0.136616786164497,
          -0.06885427266731377,
          null,
          -0.136616786164497,
          -0.23096830868791643,
          null,
          -0.136616786164497,
          -0.11014199943176896,
          null,
          -0.136616786164497,
          -0.0767388079498299,
          null,
          -0.136616786164497,
          -0.061502689762258034,
          null,
          0.1333820134733877,
          -0.06885427266731377,
          null,
          0.1333820134733877,
          0.0593747909204808,
          null,
          0.1333820134733877,
          -0.11014199943176896,
          null,
          0.1333820134733877,
          0.26401163629400143,
          null,
          0.1333820134733877,
          -0.0012369681206905857,
          null,
          -0.06885427266731377,
          -0.23096830868791643,
          null,
          -0.06885427266731377,
          -0.11014199943176896,
          null,
          -0.06885427266731377,
          -0.0767388079498299,
          null,
          -0.06885427266731377,
          -0.0012369681206905857,
          null,
          -0.19667289191897352,
          -0.3016703532713092,
          null,
          -0.19667289191897352,
          -0.09156516423323859,
          null,
          -0.19667289191897352,
          -0.11014199943176896,
          null,
          -0.19667289191897352,
          -0.0012369681206905857,
          null,
          -0.3016703532713092,
          -0.09156516423323859,
          null,
          -0.3016703532713092,
          -0.11014199943176896,
          null,
          -0.3016703532713092,
          -0.0012369681206905857,
          null,
          -0.09156516423323859,
          -0.11014199943176896,
          null,
          -0.09156516423323859,
          0.26401163629400143,
          null,
          -0.09156516423323859,
          -0.0012369681206905857,
          null,
          0.0593747909204808,
          -0.11014199943176896,
          null,
          0.0593747909204808,
          -0.0012369681206905857,
          null,
          0.1896994466504682,
          -0.11014199943176896,
          null,
          0.1896994466504682,
          0.25421998917409744,
          null,
          -0.32679401137975156,
          -0.0767388079498299,
          null,
          -0.32679401137975156,
          -0.061502689762258034,
          null,
          0.014336411072204673,
          -0.11014199943176896,
          null,
          0.014336411072204673,
          -0.038994569069130854,
          null,
          0.014336411072204673,
          -0.0012369681206905857,
          null,
          0.21139317858654352,
          0.2044971469060612,
          null,
          0.21139317858654352,
          -0.0767388079498299,
          null,
          0.21139317858654352,
          -0.061502689762258034,
          null,
          0.21139317858654352,
          0.25421998917409744,
          null,
          0.2044971469060612,
          -0.0767388079498299,
          null,
          0.2044971469060612,
          -0.061502689762258034,
          null,
          0.2044971469060612,
          0.25421998917409744,
          null,
          0.007392056039629509,
          -0.0767388079498299,
          null,
          0.007392056039629509,
          -0.061502689762258034,
          null,
          0.007392056039629509,
          0.25421998917409744,
          null,
          0.007392056039629509,
          -0.11757663599888113,
          null,
          -0.23096830868791643,
          -0.11014199943176896,
          null,
          -0.23096830868791643,
          -0.0767388079498299,
          null,
          -0.23096830868791643,
          -0.061502689762258034,
          null
         ]
        },
        {
         "hoverinfo": "text",
         "marker": {
          "color": [
           "red",
           "blue",
           "purple",
           "purple",
           "blue",
           "green",
           "blue",
           "blue",
           "blue",
           "yellow",
           "blue",
           "yellow",
           "blue",
           "blue",
           "blue",
           "purple",
           "yellow",
           "yellow",
           "yellow",
           "blue",
           "purple",
           "green",
           "blue",
           "blue",
           "blue",
           "blue",
           "blue",
           "black",
           "black",
           "black",
           "black",
           "black",
           "black",
           "black",
           "black",
           9,
           5,
           4,
           6,
           12,
           2,
           5,
           10,
           5,
           7,
           5,
           6,
           10,
           5,
           7,
           8,
           9,
           6,
           7,
           5,
           4,
           2,
           6,
           7,
           5,
           6,
           5,
           15,
           7,
           5,
           15,
           11,
           11,
           8,
           2
          ],
          "colorbar": {
           "thickness": 1,
           "title": {
            "side": "right",
            "text": "Node Connections"
           },
           "xanchor": "left"
          },
          "colorscale": [
           [
            0,
            "#440154"
           ],
           [
            0.1111111111111111,
            "#482878"
           ],
           [
            0.2222222222222222,
            "#3e4989"
           ],
           [
            0.3333333333333333,
            "#31688e"
           ],
           [
            0.4444444444444444,
            "#26828e"
           ],
           [
            0.5555555555555556,
            "#1f9e89"
           ],
           [
            0.6666666666666666,
            "#35b779"
           ],
           [
            0.7777777777777778,
            "#6ece58"
           ],
           [
            0.8888888888888888,
            "#b5de2b"
           ],
           [
            1,
            "#fde725"
           ]
          ],
          "line": {
           "width": 0
          },
          "reversescale": true,
          "showscale": true,
          "size": [
           3,
           3,
           27,
           24,
           3,
           6,
           27,
           24,
           6,
           3,
           9,
           27,
           30,
           3,
           9,
           3,
           12,
           18,
           6,
           24,
           30,
           24,
           9,
           12,
           9,
           3,
           6,
           0,
           0,
           0,
           0,
           0,
           0,
           0,
           0
          ]
         },
         "mode": "markers+text",
         "text": [
          "Al20",
          "Fa22",
          "Fe22",
          "Kl22",
          "KPP19",
          "Pe16",
          "Pe19",
          "Pe21a",
          "Pe21b",
          "Pe22a",
          "Pe22b",
          "Pe23",
          "PHS19",
          "PP19a",
          "PP19c",
          "PP20",
          "PP21a",
          "PP21b",
          "PP21c",
          "PP23",
          "PR19",
          "PS12",
          "PS19",
          "Wa21",
          "Wa22",
          "We22",
          "Wi19",
          "CM",
          "DC",
          "EnEf",
          "LCA",
          "EnTech",
          "Sim",
          "SoftDev",
          "Markt"
         ],
         "textposition": "top center",
         "type": "scatter",
         "x": [
          0.2786999400402354,
          -0.6324408518268002,
          -0.6580677614344659,
          -0.6433441682707403,
          0.43882393691590993,
          -0.44849475521881177,
          0.2039119746243593,
          -0.5212093418060535,
          0.38235586580209274,
          0.5575190001890601,
          0.18139011127646792,
          0.6699843271187943,
          0.4135029724539174,
          -0.09778174325833999,
          0.49597949591277574,
          0.14128574432859894,
          0.5136723918338139,
          0.5921196013850215,
          0.66773232069659,
          0.6654360700740902,
          0.12296526460767916,
          -0.6566093078463334,
          0.22300821874000284,
          -0.5663332994857722,
          -0.4654138225142528,
          -0.6967317537086047,
          -0.10546015101798674,
          0.33578641942983856,
          0.547411750139478,
          -0.20672442372133254,
          0.4372534528541889,
          -0.34617275594881725,
          -0.49379690889211075,
          -0.3302578134724915,
          -1
         ],
         "y": [
          0.1261532362982514,
          0.1257123712843225,
          0.29810734958896384,
          -0.12154812284215073,
          -0.10400851722444404,
          -0.34920632781229605,
          0.33020398949686475,
          0.07868786614734673,
          0.3625619510184633,
          0.01218738580411975,
          -0.22874405497964434,
          -0.22992205228008883,
          0.12084171503897712,
          -0.136616786164497,
          0.1333820134733877,
          -0.06885427266731377,
          -0.19667289191897352,
          -0.3016703532713092,
          -0.09156516423323859,
          0.0593747909204808,
          0.1896994466504682,
          -0.32679401137975156,
          0.014336411072204673,
          0.21139317858654352,
          0.2044971469060612,
          0.007392056039629509,
          -0.23096830868791643,
          -0.11014199943176896,
          0.26401163629400143,
          -0.038994569069130854,
          -0.0012369681206905857,
          -0.0767388079498299,
          -0.061502689762258034,
          0.25421998917409744,
          -0.11757663599888113
         ]
        }
       ],
       "layout": {
        "hovermode": "closest",
        "margin": {
         "b": 21,
         "l": 5,
         "r": 5,
         "t": 40
        },
        "showlegend": false,
        "template": {
         "data": {
          "bar": [
           {
            "error_x": {
             "color": "#2a3f5f"
            },
            "error_y": {
             "color": "#2a3f5f"
            },
            "marker": {
             "line": {
              "color": "#E5ECF6",
              "width": 0.5
             },
             "pattern": {
              "fillmode": "overlay",
              "size": 10,
              "solidity": 0.2
             }
            },
            "type": "bar"
           }
          ],
          "barpolar": [
           {
            "marker": {
             "line": {
              "color": "#E5ECF6",
              "width": 0.5
             },
             "pattern": {
              "fillmode": "overlay",
              "size": 10,
              "solidity": 0.2
             }
            },
            "type": "barpolar"
           }
          ],
          "carpet": [
           {
            "aaxis": {
             "endlinecolor": "#2a3f5f",
             "gridcolor": "white",
             "linecolor": "white",
             "minorgridcolor": "white",
             "startlinecolor": "#2a3f5f"
            },
            "baxis": {
             "endlinecolor": "#2a3f5f",
             "gridcolor": "white",
             "linecolor": "white",
             "minorgridcolor": "white",
             "startlinecolor": "#2a3f5f"
            },
            "type": "carpet"
           }
          ],
          "choropleth": [
           {
            "colorbar": {
             "outlinewidth": 0,
             "ticks": ""
            },
            "type": "choropleth"
           }
          ],
          "contour": [
           {
            "colorbar": {
             "outlinewidth": 0,
             "ticks": ""
            },
            "colorscale": [
             [
              0,
              "#0d0887"
             ],
             [
              0.1111111111111111,
              "#46039f"
             ],
             [
              0.2222222222222222,
              "#7201a8"
             ],
             [
              0.3333333333333333,
              "#9c179e"
             ],
             [
              0.4444444444444444,
              "#bd3786"
             ],
             [
              0.5555555555555556,
              "#d8576b"
             ],
             [
              0.6666666666666666,
              "#ed7953"
             ],
             [
              0.7777777777777778,
              "#fb9f3a"
             ],
             [
              0.8888888888888888,
              "#fdca26"
             ],
             [
              1,
              "#f0f921"
             ]
            ],
            "type": "contour"
           }
          ],
          "contourcarpet": [
           {
            "colorbar": {
             "outlinewidth": 0,
             "ticks": ""
            },
            "type": "contourcarpet"
           }
          ],
          "heatmap": [
           {
            "colorbar": {
             "outlinewidth": 0,
             "ticks": ""
            },
            "colorscale": [
             [
              0,
              "#0d0887"
             ],
             [
              0.1111111111111111,
              "#46039f"
             ],
             [
              0.2222222222222222,
              "#7201a8"
             ],
             [
              0.3333333333333333,
              "#9c179e"
             ],
             [
              0.4444444444444444,
              "#bd3786"
             ],
             [
              0.5555555555555556,
              "#d8576b"
             ],
             [
              0.6666666666666666,
              "#ed7953"
             ],
             [
              0.7777777777777778,
              "#fb9f3a"
             ],
             [
              0.8888888888888888,
              "#fdca26"
             ],
             [
              1,
              "#f0f921"
             ]
            ],
            "type": "heatmap"
           }
          ],
          "heatmapgl": [
           {
            "colorbar": {
             "outlinewidth": 0,
             "ticks": ""
            },
            "colorscale": [
             [
              0,
              "#0d0887"
             ],
             [
              0.1111111111111111,
              "#46039f"
             ],
             [
              0.2222222222222222,
              "#7201a8"
             ],
             [
              0.3333333333333333,
              "#9c179e"
             ],
             [
              0.4444444444444444,
              "#bd3786"
             ],
             [
              0.5555555555555556,
              "#d8576b"
             ],
             [
              0.6666666666666666,
              "#ed7953"
             ],
             [
              0.7777777777777778,
              "#fb9f3a"
             ],
             [
              0.8888888888888888,
              "#fdca26"
             ],
             [
              1,
              "#f0f921"
             ]
            ],
            "type": "heatmapgl"
           }
          ],
          "histogram": [
           {
            "marker": {
             "pattern": {
              "fillmode": "overlay",
              "size": 10,
              "solidity": 0.2
             }
            },
            "type": "histogram"
           }
          ],
          "histogram2d": [
           {
            "colorbar": {
             "outlinewidth": 0,
             "ticks": ""
            },
            "colorscale": [
             [
              0,
              "#0d0887"
             ],
             [
              0.1111111111111111,
              "#46039f"
             ],
             [
              0.2222222222222222,
              "#7201a8"
             ],
             [
              0.3333333333333333,
              "#9c179e"
             ],
             [
              0.4444444444444444,
              "#bd3786"
             ],
             [
              0.5555555555555556,
              "#d8576b"
             ],
             [
              0.6666666666666666,
              "#ed7953"
             ],
             [
              0.7777777777777778,
              "#fb9f3a"
             ],
             [
              0.8888888888888888,
              "#fdca26"
             ],
             [
              1,
              "#f0f921"
             ]
            ],
            "type": "histogram2d"
           }
          ],
          "histogram2dcontour": [
           {
            "colorbar": {
             "outlinewidth": 0,
             "ticks": ""
            },
            "colorscale": [
             [
              0,
              "#0d0887"
             ],
             [
              0.1111111111111111,
              "#46039f"
             ],
             [
              0.2222222222222222,
              "#7201a8"
             ],
             [
              0.3333333333333333,
              "#9c179e"
             ],
             [
              0.4444444444444444,
              "#bd3786"
             ],
             [
              0.5555555555555556,
              "#d8576b"
             ],
             [
              0.6666666666666666,
              "#ed7953"
             ],
             [
              0.7777777777777778,
              "#fb9f3a"
             ],
             [
              0.8888888888888888,
              "#fdca26"
             ],
             [
              1,
              "#f0f921"
             ]
            ],
            "type": "histogram2dcontour"
           }
          ],
          "mesh3d": [
           {
            "colorbar": {
             "outlinewidth": 0,
             "ticks": ""
            },
            "type": "mesh3d"
           }
          ],
          "parcoords": [
           {
            "line": {
             "colorbar": {
              "outlinewidth": 0,
              "ticks": ""
             }
            },
            "type": "parcoords"
           }
          ],
          "pie": [
           {
            "automargin": true,
            "type": "pie"
           }
          ],
          "scatter": [
           {
            "fillpattern": {
             "fillmode": "overlay",
             "size": 10,
             "solidity": 0.2
            },
            "type": "scatter"
           }
          ],
          "scatter3d": [
           {
            "line": {
             "colorbar": {
              "outlinewidth": 0,
              "ticks": ""
             }
            },
            "marker": {
             "colorbar": {
              "outlinewidth": 0,
              "ticks": ""
             }
            },
            "type": "scatter3d"
           }
          ],
          "scattercarpet": [
           {
            "marker": {
             "colorbar": {
              "outlinewidth": 0,
              "ticks": ""
             }
            },
            "type": "scattercarpet"
           }
          ],
          "scattergeo": [
           {
            "marker": {
             "colorbar": {
              "outlinewidth": 0,
              "ticks": ""
             }
            },
            "type": "scattergeo"
           }
          ],
          "scattergl": [
           {
            "marker": {
             "colorbar": {
              "outlinewidth": 0,
              "ticks": ""
             }
            },
            "type": "scattergl"
           }
          ],
          "scattermapbox": [
           {
            "marker": {
             "colorbar": {
              "outlinewidth": 0,
              "ticks": ""
             }
            },
            "type": "scattermapbox"
           }
          ],
          "scatterpolar": [
           {
            "marker": {
             "colorbar": {
              "outlinewidth": 0,
              "ticks": ""
             }
            },
            "type": "scatterpolar"
           }
          ],
          "scatterpolargl": [
           {
            "marker": {
             "colorbar": {
              "outlinewidth": 0,
              "ticks": ""
             }
            },
            "type": "scatterpolargl"
           }
          ],
          "scatterternary": [
           {
            "marker": {
             "colorbar": {
              "outlinewidth": 0,
              "ticks": ""
             }
            },
            "type": "scatterternary"
           }
          ],
          "surface": [
           {
            "colorbar": {
             "outlinewidth": 0,
             "ticks": ""
            },
            "colorscale": [
             [
              0,
              "#0d0887"
             ],
             [
              0.1111111111111111,
              "#46039f"
             ],
             [
              0.2222222222222222,
              "#7201a8"
             ],
             [
              0.3333333333333333,
              "#9c179e"
             ],
             [
              0.4444444444444444,
              "#bd3786"
             ],
             [
              0.5555555555555556,
              "#d8576b"
             ],
             [
              0.6666666666666666,
              "#ed7953"
             ],
             [
              0.7777777777777778,
              "#fb9f3a"
             ],
             [
              0.8888888888888888,
              "#fdca26"
             ],
             [
              1,
              "#f0f921"
             ]
            ],
            "type": "surface"
           }
          ],
          "table": [
           {
            "cells": {
             "fill": {
              "color": "#EBF0F8"
             },
             "line": {
              "color": "white"
             }
            },
            "header": {
             "fill": {
              "color": "#C8D4E3"
             },
             "line": {
              "color": "white"
             }
            },
            "type": "table"
           }
          ]
         },
         "layout": {
          "annotationdefaults": {
           "arrowcolor": "#2a3f5f",
           "arrowhead": 0,
           "arrowwidth": 1
          },
          "autotypenumbers": "strict",
          "coloraxis": {
           "colorbar": {
            "outlinewidth": 0,
            "ticks": ""
           }
          },
          "colorscale": {
           "diverging": [
            [
             0,
             "#8e0152"
            ],
            [
             0.1,
             "#c51b7d"
            ],
            [
             0.2,
             "#de77ae"
            ],
            [
             0.3,
             "#f1b6da"
            ],
            [
             0.4,
             "#fde0ef"
            ],
            [
             0.5,
             "#f7f7f7"
            ],
            [
             0.6,
             "#e6f5d0"
            ],
            [
             0.7,
             "#b8e186"
            ],
            [
             0.8,
             "#7fbc41"
            ],
            [
             0.9,
             "#4d9221"
            ],
            [
             1,
             "#276419"
            ]
           ],
           "sequential": [
            [
             0,
             "#0d0887"
            ],
            [
             0.1111111111111111,
             "#46039f"
            ],
            [
             0.2222222222222222,
             "#7201a8"
            ],
            [
             0.3333333333333333,
             "#9c179e"
            ],
            [
             0.4444444444444444,
             "#bd3786"
            ],
            [
             0.5555555555555556,
             "#d8576b"
            ],
            [
             0.6666666666666666,
             "#ed7953"
            ],
            [
             0.7777777777777778,
             "#fb9f3a"
            ],
            [
             0.8888888888888888,
             "#fdca26"
            ],
            [
             1,
             "#f0f921"
            ]
           ],
           "sequentialminus": [
            [
             0,
             "#0d0887"
            ],
            [
             0.1111111111111111,
             "#46039f"
            ],
            [
             0.2222222222222222,
             "#7201a8"
            ],
            [
             0.3333333333333333,
             "#9c179e"
            ],
            [
             0.4444444444444444,
             "#bd3786"
            ],
            [
             0.5555555555555556,
             "#d8576b"
            ],
            [
             0.6666666666666666,
             "#ed7953"
            ],
            [
             0.7777777777777778,
             "#fb9f3a"
            ],
            [
             0.8888888888888888,
             "#fdca26"
            ],
            [
             1,
             "#f0f921"
            ]
           ]
          },
          "colorway": [
           "#636efa",
           "#EF553B",
           "#00cc96",
           "#ab63fa",
           "#FFA15A",
           "#19d3f3",
           "#FF6692",
           "#B6E880",
           "#FF97FF",
           "#FECB52"
          ],
          "font": {
           "color": "#2a3f5f"
          },
          "geo": {
           "bgcolor": "white",
           "lakecolor": "white",
           "landcolor": "#E5ECF6",
           "showlakes": true,
           "showland": true,
           "subunitcolor": "white"
          },
          "hoverlabel": {
           "align": "left"
          },
          "hovermode": "closest",
          "mapbox": {
           "style": "light"
          },
          "paper_bgcolor": "white",
          "plot_bgcolor": "#E5ECF6",
          "polar": {
           "angularaxis": {
            "gridcolor": "white",
            "linecolor": "white",
            "ticks": ""
           },
           "bgcolor": "#E5ECF6",
           "radialaxis": {
            "gridcolor": "white",
            "linecolor": "white",
            "ticks": ""
           }
          },
          "scene": {
           "xaxis": {
            "backgroundcolor": "#E5ECF6",
            "gridcolor": "white",
            "gridwidth": 2,
            "linecolor": "white",
            "showbackground": true,
            "ticks": "",
            "zerolinecolor": "white"
           },
           "yaxis": {
            "backgroundcolor": "#E5ECF6",
            "gridcolor": "white",
            "gridwidth": 2,
            "linecolor": "white",
            "showbackground": true,
            "ticks": "",
            "zerolinecolor": "white"
           },
           "zaxis": {
            "backgroundcolor": "#E5ECF6",
            "gridcolor": "white",
            "gridwidth": 2,
            "linecolor": "white",
            "showbackground": true,
            "ticks": "",
            "zerolinecolor": "white"
           }
          },
          "shapedefaults": {
           "line": {
            "color": "#2a3f5f"
           }
          },
          "ternary": {
           "aaxis": {
            "gridcolor": "white",
            "linecolor": "white",
            "ticks": ""
           },
           "baxis": {
            "gridcolor": "white",
            "linecolor": "white",
            "ticks": ""
           },
           "bgcolor": "#E5ECF6",
           "caxis": {
            "gridcolor": "white",
            "linecolor": "white",
            "ticks": ""
           }
          },
          "title": {
           "x": 0.05
          },
          "xaxis": {
           "automargin": true,
           "gridcolor": "white",
           "linecolor": "white",
           "ticks": "",
           "title": {
            "standoff": 15
           },
           "zerolinecolor": "white",
           "zerolinewidth": 2
          },
          "yaxis": {
           "automargin": true,
           "gridcolor": "white",
           "linecolor": "white",
           "ticks": "",
           "title": {
            "standoff": 15
           },
           "zerolinecolor": "white",
           "zerolinewidth": 2
          }
         }
        },
        "title": {
         "font": {
          "size": 16
         },
         "text": "Network Graph Demonstration"
        },
        "xaxis": {
         "mirror": true,
         "showgrid": false,
         "showticklabels": false,
         "zeroline": false
        },
        "yaxis": {
         "mirror": true,
         "showgrid": false,
         "showticklabels": false,
         "zeroline": false
        }
       }
      }
     },
     "metadata": {},
     "output_type": "display_data"
    }
   ],
   "source": [
    "node_trace = go.Scatter(\n",
    "    x=[],\n",
    "    y=[],\n",
    "    text=[],\n",
    "    mode='markers+text',\n",
    "    textposition=\"top center\",\n",
    "\n",
    "    hoverinfo='text',\n",
    "    marker=dict(\n",
    "        #symbol = \"diamond\",\n",
    "        showscale=True,\n",
    "        colorscale='viridis',\n",
    "        reversescale=True,\n",
    "        color=colors,\n",
    "        size=[int(x)*3 for x in node_sizes],\n",
    "        colorbar=dict(\n",
    "            thickness=1,\n",
    "            title='Node Connections',\n",
    "            xanchor='left',\n",
    "            titleside='right'\n",
    "        ),\n",
    "        line=dict(width=0)))\n",
    "for node in G.nodes():\n",
    "    x, y = G.nodes[node]['pos']\n",
    "    node_trace['x'] += tuple([x])\n",
    "    node_trace['y'] += tuple([y])\n",
    "for node, adjacencies in enumerate(G.adjacency()):\n",
    "    node_trace['marker']['color'] += tuple([len(adjacencies[1])])\n",
    "    node_info = adjacencies[0]\n",
    "    node_trace['text'] += tuple([node_info])\n",
    "title = \"Network Graph Demonstration\"\n",
    "fig = go.Figure(data=[edge_trace, node_trace],\n",
    "                layout=go.Layout(\n",
    "                title=title,\n",
    "                titlefont=dict(size=16),\n",
    "                showlegend=False,\n",
    "                hovermode='closest',\n",
    "                margin=dict(b=21, l=5, r=5, t=40),\n",
    "                # annotations=[dict(\n",
    "                #     text=\"Text Here\",\n",
    "                #     showarrow=False,\n",
    "                #     xref=\"paper\", yref=\"paper\")],\n",
    "                xaxis=dict(showgrid=False, zeroline=False,\n",
    "                           showticklabels=False, mirror=True),\n",
    "                yaxis=dict(showgrid=False, zeroline=False, showticklabels=False, mirror=True)))\n",
    "fig.show()"
   ]
  }
 ],
 "metadata": {
  "kernelspec": {
   "display_name": "dataEval",
   "language": "python",
   "name": "python3"
  },
  "language_info": {
   "codemirror_mode": {
    "name": "ipython",
    "version": 3
   },
   "file_extension": ".py",
   "mimetype": "text/x-python",
   "name": "python",
   "nbconvert_exporter": "python",
   "pygments_lexer": "ipython3",
   "version": "3.8.16"
  },
  "orig_nbformat": 4,
  "vscode": {
   "interpreter": {
    "hash": "7f36dc3576c891acaf5d7f5a62bb307b81a32960500457372cdcfdde0617b861"
   }
  }
 },
 "nbformat": 4,
 "nbformat_minor": 2
}
